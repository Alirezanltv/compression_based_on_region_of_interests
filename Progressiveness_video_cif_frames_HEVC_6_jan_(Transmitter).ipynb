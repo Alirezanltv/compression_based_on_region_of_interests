{
  "nbformat": 4,
  "nbformat_minor": 0,
  "metadata": {
    "colab": {
      "name": "Progressiveness_video_cif_frames_HEVC_6_jan_(Transmitter).ipynb",
      "provenance": [],
      "collapsed_sections": [
        "IMwUSAoyYN7Z",
        "Ti_0gLxoYXoY",
        "HJpL7qdRYiYQ",
        "NeA-SsyZYqov",
        "P2dvym0SY_nX",
        "HdSDylymZUen",
        "tMqtlyTUaBu_",
        "7GIvqR5ubWq2",
        "VBTLwrfCcUiV",
        "8aYkwBfddZVs",
        "n85ZbuosdpJU"
      ],
      "include_colab_link": true
    },
    "kernelspec": {
      "name": "python3",
      "display_name": "Python 3"
    },
    "language_info": {
      "name": "python"
    },
    "widgets": {
      "application/vnd.jupyter.widget-state+json": {
        "436af58c139f4353b04ae07eb5f12673": {
          "model_module": "@jupyter-widgets/controls",
          "model_name": "HBoxModel",
          "model_module_version": "1.5.0",
          "state": {
            "_view_name": "HBoxView",
            "_dom_classes": [],
            "_model_name": "HBoxModel",
            "_view_module": "@jupyter-widgets/controls",
            "_model_module_version": "1.5.0",
            "_view_count": null,
            "_view_module_version": "1.5.0",
            "box_style": "",
            "layout": "IPY_MODEL_2ec8b181423a42899edb8f409b19c27d",
            "_model_module": "@jupyter-widgets/controls",
            "children": [
              "IPY_MODEL_b3e2425599ee401f9a9f5be68ed7ded5",
              "IPY_MODEL_e02c1270bdd1463787f5b8300ad9899c",
              "IPY_MODEL_d939e08f294c42308d51819babd796ec"
            ]
          }
        },
        "2ec8b181423a42899edb8f409b19c27d": {
          "model_module": "@jupyter-widgets/base",
          "model_name": "LayoutModel",
          "model_module_version": "1.2.0",
          "state": {
            "_view_name": "LayoutView",
            "grid_template_rows": null,
            "right": null,
            "justify_content": null,
            "_view_module": "@jupyter-widgets/base",
            "overflow": null,
            "_model_module_version": "1.2.0",
            "_view_count": null,
            "flex_flow": null,
            "width": null,
            "min_width": null,
            "border": null,
            "align_items": null,
            "bottom": null,
            "_model_module": "@jupyter-widgets/base",
            "top": null,
            "grid_column": null,
            "overflow_y": null,
            "overflow_x": null,
            "grid_auto_flow": null,
            "grid_area": null,
            "grid_template_columns": null,
            "flex": null,
            "_model_name": "LayoutModel",
            "justify_items": null,
            "grid_row": null,
            "max_height": null,
            "align_content": null,
            "visibility": null,
            "align_self": null,
            "height": null,
            "min_height": null,
            "padding": null,
            "grid_auto_rows": null,
            "grid_gap": null,
            "max_width": null,
            "order": null,
            "_view_module_version": "1.2.0",
            "grid_template_areas": null,
            "object_position": null,
            "object_fit": null,
            "grid_auto_columns": null,
            "margin": null,
            "display": null,
            "left": null
          }
        },
        "b3e2425599ee401f9a9f5be68ed7ded5": {
          "model_module": "@jupyter-widgets/controls",
          "model_name": "HTMLModel",
          "model_module_version": "1.5.0",
          "state": {
            "_view_name": "HTMLView",
            "style": "IPY_MODEL_e169c2e77b5340fca0558280612dab80",
            "_dom_classes": [],
            "description": "",
            "_model_name": "HTMLModel",
            "placeholder": "​",
            "_view_module": "@jupyter-widgets/controls",
            "_model_module_version": "1.5.0",
            "value": "100%",
            "_view_count": null,
            "_view_module_version": "1.5.0",
            "description_tooltip": null,
            "_model_module": "@jupyter-widgets/controls",
            "layout": "IPY_MODEL_b97df4ed437e45babf548aec3885fb7e"
          }
        },
        "e02c1270bdd1463787f5b8300ad9899c": {
          "model_module": "@jupyter-widgets/controls",
          "model_name": "FloatProgressModel",
          "model_module_version": "1.5.0",
          "state": {
            "_view_name": "ProgressView",
            "style": "IPY_MODEL_15323825977641eeb4f9c1729988c5ae",
            "_dom_classes": [],
            "description": "",
            "_model_name": "FloatProgressModel",
            "bar_style": "success",
            "max": 93544491,
            "_view_module": "@jupyter-widgets/controls",
            "_model_module_version": "1.5.0",
            "value": 93544491,
            "_view_count": null,
            "_view_module_version": "1.5.0",
            "orientation": "horizontal",
            "min": 0,
            "description_tooltip": null,
            "_model_module": "@jupyter-widgets/controls",
            "layout": "IPY_MODEL_e0d50c800b3f45769df18d5077464690"
          }
        },
        "d939e08f294c42308d51819babd796ec": {
          "model_module": "@jupyter-widgets/controls",
          "model_name": "HTMLModel",
          "model_module_version": "1.5.0",
          "state": {
            "_view_name": "HTMLView",
            "style": "IPY_MODEL_5049a99b82a344aa872fab8a85da1e5d",
            "_dom_classes": [],
            "description": "",
            "_model_name": "HTMLModel",
            "placeholder": "​",
            "_view_module": "@jupyter-widgets/controls",
            "_model_module_version": "1.5.0",
            "value": " 89.2M/89.2M [00:03&lt;00:00, 27.2MB/s]",
            "_view_count": null,
            "_view_module_version": "1.5.0",
            "description_tooltip": null,
            "_model_module": "@jupyter-widgets/controls",
            "layout": "IPY_MODEL_6d3de9b9517242ee9ba5a1fe608b9cce"
          }
        },
        "e169c2e77b5340fca0558280612dab80": {
          "model_module": "@jupyter-widgets/controls",
          "model_name": "DescriptionStyleModel",
          "model_module_version": "1.5.0",
          "state": {
            "_view_name": "StyleView",
            "_model_name": "DescriptionStyleModel",
            "description_width": "",
            "_view_module": "@jupyter-widgets/base",
            "_model_module_version": "1.5.0",
            "_view_count": null,
            "_view_module_version": "1.2.0",
            "_model_module": "@jupyter-widgets/controls"
          }
        },
        "b97df4ed437e45babf548aec3885fb7e": {
          "model_module": "@jupyter-widgets/base",
          "model_name": "LayoutModel",
          "model_module_version": "1.2.0",
          "state": {
            "_view_name": "LayoutView",
            "grid_template_rows": null,
            "right": null,
            "justify_content": null,
            "_view_module": "@jupyter-widgets/base",
            "overflow": null,
            "_model_module_version": "1.2.0",
            "_view_count": null,
            "flex_flow": null,
            "width": null,
            "min_width": null,
            "border": null,
            "align_items": null,
            "bottom": null,
            "_model_module": "@jupyter-widgets/base",
            "top": null,
            "grid_column": null,
            "overflow_y": null,
            "overflow_x": null,
            "grid_auto_flow": null,
            "grid_area": null,
            "grid_template_columns": null,
            "flex": null,
            "_model_name": "LayoutModel",
            "justify_items": null,
            "grid_row": null,
            "max_height": null,
            "align_content": null,
            "visibility": null,
            "align_self": null,
            "height": null,
            "min_height": null,
            "padding": null,
            "grid_auto_rows": null,
            "grid_gap": null,
            "max_width": null,
            "order": null,
            "_view_module_version": "1.2.0",
            "grid_template_areas": null,
            "object_position": null,
            "object_fit": null,
            "grid_auto_columns": null,
            "margin": null,
            "display": null,
            "left": null
          }
        },
        "15323825977641eeb4f9c1729988c5ae": {
          "model_module": "@jupyter-widgets/controls",
          "model_name": "ProgressStyleModel",
          "model_module_version": "1.5.0",
          "state": {
            "_view_name": "StyleView",
            "_model_name": "ProgressStyleModel",
            "description_width": "",
            "_view_module": "@jupyter-widgets/base",
            "_model_module_version": "1.5.0",
            "_view_count": null,
            "_view_module_version": "1.2.0",
            "bar_color": null,
            "_model_module": "@jupyter-widgets/controls"
          }
        },
        "e0d50c800b3f45769df18d5077464690": {
          "model_module": "@jupyter-widgets/base",
          "model_name": "LayoutModel",
          "model_module_version": "1.2.0",
          "state": {
            "_view_name": "LayoutView",
            "grid_template_rows": null,
            "right": null,
            "justify_content": null,
            "_view_module": "@jupyter-widgets/base",
            "overflow": null,
            "_model_module_version": "1.2.0",
            "_view_count": null,
            "flex_flow": null,
            "width": null,
            "min_width": null,
            "border": null,
            "align_items": null,
            "bottom": null,
            "_model_module": "@jupyter-widgets/base",
            "top": null,
            "grid_column": null,
            "overflow_y": null,
            "overflow_x": null,
            "grid_auto_flow": null,
            "grid_area": null,
            "grid_template_columns": null,
            "flex": null,
            "_model_name": "LayoutModel",
            "justify_items": null,
            "grid_row": null,
            "max_height": null,
            "align_content": null,
            "visibility": null,
            "align_self": null,
            "height": null,
            "min_height": null,
            "padding": null,
            "grid_auto_rows": null,
            "grid_gap": null,
            "max_width": null,
            "order": null,
            "_view_module_version": "1.2.0",
            "grid_template_areas": null,
            "object_position": null,
            "object_fit": null,
            "grid_auto_columns": null,
            "margin": null,
            "display": null,
            "left": null
          }
        },
        "5049a99b82a344aa872fab8a85da1e5d": {
          "model_module": "@jupyter-widgets/controls",
          "model_name": "DescriptionStyleModel",
          "model_module_version": "1.5.0",
          "state": {
            "_view_name": "StyleView",
            "_model_name": "DescriptionStyleModel",
            "description_width": "",
            "_view_module": "@jupyter-widgets/base",
            "_model_module_version": "1.5.0",
            "_view_count": null,
            "_view_module_version": "1.2.0",
            "_model_module": "@jupyter-widgets/controls"
          }
        },
        "6d3de9b9517242ee9ba5a1fe608b9cce": {
          "model_module": "@jupyter-widgets/base",
          "model_name": "LayoutModel",
          "model_module_version": "1.2.0",
          "state": {
            "_view_name": "LayoutView",
            "grid_template_rows": null,
            "right": null,
            "justify_content": null,
            "_view_module": "@jupyter-widgets/base",
            "overflow": null,
            "_model_module_version": "1.2.0",
            "_view_count": null,
            "flex_flow": null,
            "width": null,
            "min_width": null,
            "border": null,
            "align_items": null,
            "bottom": null,
            "_model_module": "@jupyter-widgets/base",
            "top": null,
            "grid_column": null,
            "overflow_y": null,
            "overflow_x": null,
            "grid_auto_flow": null,
            "grid_area": null,
            "grid_template_columns": null,
            "flex": null,
            "_model_name": "LayoutModel",
            "justify_items": null,
            "grid_row": null,
            "max_height": null,
            "align_content": null,
            "visibility": null,
            "align_self": null,
            "height": null,
            "min_height": null,
            "padding": null,
            "grid_auto_rows": null,
            "grid_gap": null,
            "max_width": null,
            "order": null,
            "_view_module_version": "1.2.0",
            "grid_template_areas": null,
            "object_position": null,
            "object_fit": null,
            "grid_auto_columns": null,
            "margin": null,
            "display": null,
            "left": null
          }
        }
      }
    }
  },
  "cells": [
    {
      "cell_type": "markdown",
      "metadata": {
        "id": "view-in-github",
        "colab_type": "text"
      },
      "source": [
        "<a href=\"https://colab.research.google.com/github/Alirezanltv/compression_based_on_region_of_interests/blob/main/Progressiveness_video_cif_frames_HEVC_6_jan_(Transmitter).ipynb\" target=\"_parent\"><img src=\"https://colab.research.google.com/assets/colab-badge.svg\" alt=\"Open In Colab\"/></a>"
      ]
    },
    {
      "cell_type": "markdown",
      "source": [
        "# install requirements"
      ],
      "metadata": {
        "id": "IMwUSAoyYN7Z"
      }
    },
    {
      "cell_type": "code",
      "source": [
        "!pip install ffmpeg-python\n",
        "!pip install yolov5"
      ],
      "metadata": {
        "id": "LFO2kq7OYM6I"
      },
      "execution_count": null,
      "outputs": []
    },
    {
      "cell_type": "markdown",
      "source": [
        "# drive should be mounted"
      ],
      "metadata": {
        "id": "Ti_0gLxoYXoY"
      }
    },
    {
      "cell_type": "code",
      "source": [
        "from google.colab import drive\n",
        "drive.mount(\"/drive\", force_remount=True)\n",
        "\n",
        "!mv \"/drive/My Drive/YOLO_weights/last_AFO4.pt\" \"/content\""
      ],
      "metadata": {
        "colab": {
          "base_uri": "https://localhost:8080/"
        },
        "id": "nZhM1s6XQ781",
        "outputId": "989aa90c-80d2-4953-8bc4-526664fd48df"
      },
      "execution_count": null,
      "outputs": [
        {
          "output_type": "stream",
          "name": "stdout",
          "text": [
            "Mounted at /drive\n"
          ]
        }
      ]
    },
    {
      "cell_type": "markdown",
      "source": [
        "# import libraries"
      ],
      "metadata": {
        "id": "HJpL7qdRYiYQ"
      }
    },
    {
      "cell_type": "code",
      "source": [
        "# imports\n",
        "\n",
        "from google.colab.patches import cv2_imshow\n",
        "import glob\n",
        "import matplotlib.pyplot as plt\n",
        "import numpy as np\n",
        "import os\n",
        "import torch\n",
        "import cv2\n",
        "from yolov5 import YOLOv5"
      ],
      "metadata": {
        "colab": {
          "base_uri": "https://localhost:8080/"
        },
        "id": "vc7tU7_5OOd3",
        "outputId": "628e113a-2a78-4b0c-fa4e-e844375d6f6b"
      },
      "execution_count": null,
      "outputs": [
        {
          "output_type": "stream",
          "name": "stdout",
          "text": [
            "Downloading https://ultralytics.com/assets/Arial.ttf to /root/.config/Ultralytics/Arial.ttf...\n"
          ]
        }
      ]
    },
    {
      "cell_type": "markdown",
      "source": [
        "# set object detection model with its weights and determine the device"
      ],
      "metadata": {
        "id": "NeA-SsyZYqov"
      }
    },
    {
      "cell_type": "code",
      "source": [
        "# set model params\n",
        "model_path = \"Yolov5/weights/yolov5l.pt\" # it automatically downloads yolov5l model to given path \n",
        "device = \"cpu\" # or \"cpu\" or \"cuda\"\n",
        "\n",
        "# init yolov5 model\n",
        "yolov5 = YOLOv5(model_path, device)"
      ],
      "metadata": {
        "colab": {
          "base_uri": "https://localhost:8080/",
          "height": 86,
          "referenced_widgets": [
            "436af58c139f4353b04ae07eb5f12673",
            "2ec8b181423a42899edb8f409b19c27d",
            "b3e2425599ee401f9a9f5be68ed7ded5",
            "e02c1270bdd1463787f5b8300ad9899c",
            "d939e08f294c42308d51819babd796ec",
            "e169c2e77b5340fca0558280612dab80",
            "b97df4ed437e45babf548aec3885fb7e",
            "15323825977641eeb4f9c1729988c5ae",
            "e0d50c800b3f45769df18d5077464690",
            "5049a99b82a344aa872fab8a85da1e5d",
            "6d3de9b9517242ee9ba5a1fe608b9cce"
          ]
        },
        "id": "i5_M--ZaOwYQ",
        "outputId": "0d7c8a1b-daae-49e6-e009-5f8742eb14e1"
      },
      "execution_count": null,
      "outputs": [
        {
          "output_type": "stream",
          "name": "stdout",
          "text": [
            "Downloading https://github.com/ultralytics/yolov5/releases/download/v6.0/yolov5l.pt to Yolov5/weights/yolov5l.pt...\n"
          ]
        },
        {
          "output_type": "display_data",
          "data": {
            "application/vnd.jupyter.widget-view+json": {
              "model_id": "436af58c139f4353b04ae07eb5f12673",
              "version_minor": 0,
              "version_major": 2
            },
            "text/plain": [
              "  0%|          | 0.00/89.2M [00:00<?, ?B/s]"
            ]
          },
          "metadata": {}
        },
        {
          "output_type": "stream",
          "name": "stdout",
          "text": [
            "\n"
          ]
        }
      ]
    },
    {
      "cell_type": "markdown",
      "source": [
        "# read the video"
      ],
      "metadata": {
        "id": "P2dvym0SY_nX"
      }
    },
    {
      "cell_type": "code",
      "source": [
        "# Opens the Video file\n",
        "cap= cv2.VideoCapture('directory OR camera ip')"
      ],
      "metadata": {
        "id": "6YQfKEBNZK5w"
      },
      "execution_count": null,
      "outputs": []
    },
    {
      "cell_type": "markdown",
      "source": [
        "# progressiveness module\n",
        "\n",
        "progressiveness images are saved in \" result_cif_p\""
      ],
      "metadata": {
        "id": "HdSDylymZUen"
      }
    },
    {
      "cell_type": "code",
      "source": [
        "os.mkdir('/content/result_cif_p')\n",
        "count=0\n",
        "while(cap.isOpened()):\n",
        "    ret, frame = cap.read()\n",
        "   \n",
        "    if ret == False:\n",
        "        break\n",
        "    if count==0 or count%9==0:\n",
        "      frame = cv2.resize(frame ,(708,576))\n",
        "      predicted = yolov5.predict(frame)\n",
        "      # predicted = yolov5.predict(frame, augment=True)\n",
        "      bb_tensors =[]\n",
        "      bb_tensors.append(predicted.xyxy[0])\n",
        "      # print(bb_tensors)\n",
        "      num_boxes =[]\n",
        "      num_boxes = len(bb_tensors)\n",
        "      # print(num_boxes)\n",
        "\n",
        "      rec =[]\n",
        "\n",
        "      for j in range(0,num_boxes):\n",
        "        rec.append(bb_tensors[j][0:4].cpu().numpy())\n",
        "      rec = np.array(rec)\n",
        "\n",
        "      # sudo fibonacci\n",
        "      a =0\n",
        "      b=[0]\n",
        "      for t in [num_boxes]:\n",
        "        a+=t\n",
        "        b.append(a)\n",
        "      # print(b)\n",
        "\n",
        "      REC_matrix =[]\n",
        "      for i in range(0,len(b)) :\n",
        "        if i==len(b)-1:\n",
        "          break\n",
        "        REC_matrix.append(rec[b[i]:b[i+1]])\n",
        "      REC_matrix = np.array(REC_matrix)\n",
        "      print(REC_matrix)\n",
        "      # ////////////////////////////////////////////////////////////////////////////////////////\n",
        "\n",
        "      # ///////////////////////////////////////////////////////////////////////////////\n",
        "      # CIF images should be making\n",
        "      img = cv2.resize(frame , (frame.shape[1]//2 , frame.shape[0]//2))\n",
        "      filter_mean =np.zeros((img.shape[0] , img.shape[1] , 3))\n",
        "      block_size =13\n",
        "    \n",
        "      for i in range(0,img.shape[0]-block_size):\n",
        "        for j in range(0, img.shape[1]-block_size):\n",
        "          for k in range(0,3):\n",
        "            filter_mean[i*block_size:block_size*(i+1) , j*block_size: block_size*(j+1) , k]=np.sum(img[i*block_size:block_size*(i+1) , j*block_size: block_size*(j+1),k]) /(block_size**2)\n",
        "      \n",
        "      REC_matrix_cif = REC_matrix//2\n",
        "      REC_matrix_cif = REC_matrix_cif[0][0]\n",
        "      \n",
        "      mask = np.zeros((img.shape[0] , img.shape[1] , 3))\n",
        "\n",
        "\n",
        "      for k in range(0,len(REC_matrix_cif)):\n",
        "\n",
        "        mask[int(REC_matrix_cif[k][1]):int(REC_matrix_cif[k][3]) ,int(REC_matrix_cif[k][0]):int(REC_matrix_cif[k][2])]=1\n",
        "      \n",
        "      Mbb = np.zeros((img.shape[0] , img.shape[1] , 3))\n",
        "\n",
        "      for i in range(0,img.shape[0]):\n",
        "        for j in range(0,img.shape[1]):\n",
        "          Mbb[i][j] = mask[i][j]*img[i][j]\n",
        "\n",
        "\n",
        "      for i in range(0,img.shape[0]):\n",
        "        for j in range(0,img.shape[1]):\n",
        "          for k in range(0,3):\n",
        "            if Mbb[i][j][k]==0:\n",
        "              Mbb[i][j][k] = Mbb[i][j][k]+filter_mean[i][j][k]\n",
        "\n",
        "    cv2_imshow(Mbb)\n",
        "    cv2.imwrite(\"/content/result_cif_p/\"+str(count)+\".jpg\" , Mbb)\n",
        "    count+=1"
      ],
      "metadata": {
        "id": "npET7qnwOo23"
      },
      "execution_count": null,
      "outputs": []
    },
    {
      "cell_type": "markdown",
      "source": [
        "# Making  video out of frames"
      ],
      "metadata": {
        "id": "tMqtlyTUaBu_"
      }
    },
    {
      "cell_type": "code",
      "source": [
        "\n",
        "import os\n",
        "def save():\n",
        "    os.system(\"ffmpeg -r 3 -i /content/result_cif_p/%01d.jpg -vcodec mpeg4 -y compressed_prog.mp4\")\n",
        "save()"
      ],
      "metadata": {
        "id": "t2d_G8nDQF-O"
      },
      "execution_count": null,
      "outputs": []
    },
    {
      "cell_type": "code",
      "source": [
        "# len(os.listdir(\"/content/result_cif_p\"))"
      ],
      "metadata": {
        "colab": {
          "base_uri": "https://localhost:8080/"
        },
        "id": "ApilYAvkYHrx",
        "outputId": "472745db-ac54-4bab-d6a2-2cdf3326e3f5"
      },
      "execution_count": null,
      "outputs": [
        {
          "output_type": "execute_result",
          "data": {
            "text/plain": [
              "257"
            ]
          },
          "metadata": {},
          "execution_count": 53
        }
      ]
    },
    {
      "cell_type": "markdown",
      "source": [
        "# the name of your video would be \" compressed_prog\"\n",
        "\n",
        "it should be compressed with h265 codec and the output file video name is \"cif_hvc\""
      ],
      "metadata": {
        "id": "7GIvqR5ubWq2"
      }
    },
    {
      "cell_type": "code",
      "source": [
        "# finally it works\n",
        "!ffmpeg -i /content/compressed_prog.mp4 -vcodec libx265 -crf 36 -preset medium -c:a aac  -x265-params bframes=3    -pix_fmt yuv420p  cif_hvc.mp4"
      ],
      "metadata": {
        "id": "OtfjYsL2fGiN"
      },
      "execution_count": null,
      "outputs": []
    },
    {
      "cell_type": "markdown",
      "source": [
        "# without progressiveness\n",
        "\n",
        "images will be save in this folder called \"frames\""
      ],
      "metadata": {
        "id": "VBTLwrfCcUiV"
      }
    },
    {
      "cell_type": "code",
      "source": [
        "# Opens the Video file\n",
        "cap= cv2.VideoCapture('/content/bombers_ships_2.mp4')"
      ],
      "metadata": {
        "id": "Zm86NmYIdFxs"
      },
      "execution_count": null,
      "outputs": []
    },
    {
      "cell_type": "code",
      "source": [
        "os.mkdir('/content/frames')\n",
        "i=0\n",
        "while(cap.isOpened()):\n",
        "    ret, frame = cap.read()\n",
        "   \n",
        "    if ret == False:\n",
        "        break\n",
        "    if i==0 or i%10 ==0:\n",
        "      frame = cv2.resize(frame ,(356,288))\n",
        "      cv2.imwrite('/content/frames/'+str(i//10)+'.jpg',frame)\n",
        "    i+=1\n",
        "\n",
        "\n",
        "# Making  video out of frames\n",
        "print(len(os.listdir(\"/content/frames\")))\n",
        "\n",
        "\n"
      ],
      "metadata": {
        "colab": {
          "base_uri": "https://localhost:8080/"
        },
        "id": "FUtMnoiCflEw",
        "outputId": "6250783b-c6f6-4d22-a182-4085c55d15ef"
      },
      "execution_count": null,
      "outputs": [
        {
          "output_type": "stream",
          "name": "stdout",
          "text": [
            "84\n"
          ]
        }
      ]
    },
    {
      "cell_type": "markdown",
      "source": [
        "# making video out of frames"
      ],
      "metadata": {
        "id": "8aYkwBfddZVs"
      }
    },
    {
      "cell_type": "code",
      "source": [
        "import os\n",
        "def save():\n",
        "    os.system(\"ffmpeg -r 3 -i /content/frames/%01d.jpg -vcodec mpeg4 -y cif_bombers_10.mp4\")\n",
        "save()"
      ],
      "metadata": {
        "id": "_y60kGj5deOk"
      },
      "execution_count": null,
      "outputs": []
    },
    {
      "cell_type": "markdown",
      "source": [
        "# it should be compressed with h265 codec.\n",
        "your output video name is cif_hvc_10"
      ],
      "metadata": {
        "id": "n85ZbuosdpJU"
      }
    },
    {
      "cell_type": "code",
      "source": [
        "# finally it works\n",
        "!ffmpeg -i /content/cif_bombers_10.mp4 -vcodec libx265 -crf 36 -preset medium -c:a aac  -x265-params bframes=3    -pix_fmt yuv420p  /content/cif_hvc_10.mp4"
      ],
      "metadata": {
        "id": "-CXybYFSg4A-"
      },
      "execution_count": null,
      "outputs": []
    }
  ]
}